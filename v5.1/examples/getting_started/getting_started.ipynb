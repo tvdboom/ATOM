{
 "cells": [
  {
   "cell_type": "markdown",
   "id": "61fb44bc-6b5a-4ca6-9b55-66ee34620ea7",
   "metadata": {},
   "source": [
    "# Example: Getting started\n",
    "--------------------------\n",
    "\n",
    "This example shows how to get started with the atom-ml library.\n",
    "\n",
    "The data used is a variation on the [Australian weather dataset](https://www.kaggle.com/jsphyg/weather-dataset-rattle-package) from Kaggle. You can download it from [here](https://github.com/tvdboom/ATOM/blob/master/examples/datasets/weatherAUS.csv). The goal of this dataset is to predict whether or not it will rain tomorrow training a binary classifier on target `RainTomorrow`."
   ]
  },
  {
   "cell_type": "code",
   "execution_count": 1,
   "id": "cc95d94f-0bc4-44e3-a74c-84c44fd8def3",
   "metadata": {},
   "outputs": [],
   "source": [
    "import pandas as pd\n",
    "from atom import ATOMClassifier\n",
    "\n",
    "# Load the Australian Weather dataset\n",
    "X = pd.read_csv(\"https://raw.githubusercontent.com/tvdboom/ATOM/master/examples/datasets/weatherAUS.csv\")"
   ]
  },
  {
   "cell_type": "code",
   "execution_count": 2,
   "id": "89b421ef-df08-4a44-935f-18eaa53563e4",
   "metadata": {},
   "outputs": [
    {
     "name": "stdout",
     "output_type": "stream",
     "text": [
      "<< ================== ATOM ================== >>\n",
      "Algorithm task: binary classification.\n",
      "\n",
      "Dataset stats ==================== >>\n",
      "Shape: (1000, 22)\n",
      "Train set size: 800\n",
      "Test set size: 200\n",
      "-------------------------------------\n",
      "Memory: 433.78 kB\n",
      "Scaled: False\n",
      "Missing values: 2231 (10.1%)\n",
      "Categorical features: 5 (23.8%)\n",
      "\n"
     ]
    }
   ],
   "source": [
    "atom = ATOMClassifier(X, y=\"RainTomorrow\", n_rows=1000, verbose=2)"
   ]
  },
  {
   "cell_type": "code",
   "execution_count": 3,
   "id": "d5a53901-ba1d-4120-bfe9-a65a5e7dffe3",
   "metadata": {},
   "outputs": [
    {
     "name": "stdout",
     "output_type": "stream",
     "text": [
      "Fitting Imputer...\n",
      "Imputing missing values...\n",
      " --> Imputing 5 missing values with median (11.7) in feature MinTemp.\n",
      " --> Imputing 2 missing values with median (22.25) in feature MaxTemp.\n",
      " --> Imputing 12 missing values with median (0.0) in feature Rainfall.\n",
      " --> Imputing 417 missing values with median (4.2) in feature Evaporation.\n",
      " --> Imputing 469 missing values with median (8.4) in feature Sunshine.\n",
      " --> Imputing 68 missing values with most_frequent (W) in feature WindGustDir.\n",
      " --> Imputing 68 missing values with median (37.0) in feature WindGustSpeed.\n",
      " --> Imputing 64 missing values with most_frequent (N) in feature WindDir9am.\n",
      " --> Imputing 32 missing values with most_frequent (SE) in feature WindDir3pm.\n",
      " --> Imputing 13 missing values with median (13.0) in feature WindSpeed9am.\n",
      " --> Imputing 23 missing values with median (19.0) in feature WindSpeed3pm.\n",
      " --> Imputing 17 missing values with median (69.0) in feature Humidity9am.\n",
      " --> Imputing 28 missing values with median (52.0) in feature Humidity3pm.\n",
      " --> Imputing 100 missing values with median (1017.6) in feature Pressure9am.\n",
      " --> Imputing 98 missing values with median (1015.3) in feature Pressure3pm.\n",
      " --> Imputing 379 missing values with median (5.0) in feature Cloud9am.\n",
      " --> Imputing 399 missing values with median (5.0) in feature Cloud3pm.\n",
      " --> Imputing 7 missing values with median (16.5) in feature Temp9am.\n",
      " --> Imputing 18 missing values with median (21.1) in feature Temp3pm.\n",
      " --> Imputing 12 missing values with most_frequent (No) in feature RainToday.\n",
      "Fitting Encoder...\n",
      "Encoding categorical columns...\n",
      " --> LeaveOneOut-encoding feature Location. Contains 49 classes.\n",
      " --> LeaveOneOut-encoding feature WindGustDir. Contains 16 classes.\n",
      " --> LeaveOneOut-encoding feature WindDir9am. Contains 16 classes.\n",
      " --> LeaveOneOut-encoding feature WindDir3pm. Contains 16 classes.\n",
      " --> Ordinal-encoding feature RainToday. Contains 2 classes.\n"
     ]
    }
   ],
   "source": [
    "atom.impute(strat_num=\"median\", strat_cat=\"most_frequent\")  \n",
    "atom.encode(strategy=\"LeaveOneOut\", max_onehot=8)"
   ]
  },
  {
   "cell_type": "code",
   "execution_count": 4,
   "id": "282546a1-012b-4ead-9441-55414d29d4ae",
   "metadata": {},
   "outputs": [
    {
     "name": "stdout",
     "output_type": "stream",
     "text": [
      "\n",
      "Training ========================= >>\n",
      "Models: LDA, AdaB\n",
      "Metric: roc_auc\n",
      "\n",
      "\n",
      "Running hyperparameter tuning for LinearDiscriminantAnalysis...\n",
      "| trial |  solver | shrinkage | roc_auc | best_roc_auc | time_trial | time_ht |    state |\n",
      "| ----- | ------- | --------- | ------- | ------------ | ---------- | ------- | -------- |\n",
      "| 0     |   eigen |      auto |  0.8686 |       0.8686 |     1.863s |  1.863s | COMPLETE |\n",
      "| 1     |    lsqr |       0.8 |  0.8607 |       0.8686 |     1.575s |  3.439s | COMPLETE |\n",
      "| 2     |   eigen |      auto |  0.8686 |       0.8686 |     0.003s |  3.442s | COMPLETE |\n",
      "| 3     |     svd |       --- |  0.8428 |       0.8686 |     1.494s |  4.936s | COMPLETE |\n",
      "| 4     |    lsqr |       0.5 |  0.7998 |       0.8686 |     1.475s |  6.411s | COMPLETE |\n",
      "| 5     |     svd |       --- |  0.8428 |       0.8686 |     0.000s |  6.411s | COMPLETE |\n",
      "| 6     |    lsqr |      auto |  0.8147 |       0.8686 |     1.528s |  7.939s | COMPLETE |\n",
      "| 7     |     svd |       --- |  0.8428 |       0.8686 |     0.000s |  7.939s | COMPLETE |\n",
      "| 8     |     svd |       --- |  0.8428 |       0.8686 |     0.008s |  7.947s | COMPLETE |\n",
      "| 9     |    lsqr |       1.0 |  0.8214 |       0.8686 |     1.518s |  9.465s | COMPLETE |\n",
      "Hyperparameter tuning ---------------------------\n",
      "Best trial --> 0\n",
      "Best parameters:\n",
      " --> solver: eigen\n",
      " --> shrinkage: auto\n",
      "Best evaluation --> roc_auc: 0.8686\n",
      "Time elapsed: 9.465s\n",
      "Fit ---------------------------------------------\n",
      "Train evaluation --> roc_auc: 0.8867\n",
      "Test evaluation --> roc_auc: 0.9118\n",
      "Time elapsed: 0.112s\n",
      "-------------------------------------------------\n",
      "Total time: 9.577s\n",
      "\n",
      "\n",
      "Running hyperparameter tuning for AdaBoost...\n",
      "| trial | n_estimators | learning_rate | algorithm | roc_auc | best_roc_auc | time_trial | time_ht |    state |\n",
      "| ----- | ------------ | ------------- | --------- | ------- | ------------ | ---------- | ------- | -------- |\n",
      "| 0     |          240 |        0.1504 |     SAMME |  0.8736 |       0.8736 |     2.840s |  2.840s | COMPLETE |\n",
      "| 1     |          360 |        0.0183 |   SAMME.R |  0.8063 |       0.8736 |     3.375s |  6.215s | COMPLETE |\n",
      "| 2     |          490 |        0.6449 |   SAMME.R |  0.8147 |       0.8736 |     4.000s | 10.215s | COMPLETE |\n",
      "| 3     |          100 |        0.6744 |     SAMME |  0.7949 |       0.8736 |     1.304s | 11.519s | COMPLETE |\n",
      "| 4     |          270 |        0.0344 |   SAMME.R |  0.7845 |       0.8736 |     2.595s | 14.115s | COMPLETE |\n",
      "| 5     |          360 |        1.5914 |   SAMME.R |  0.7563 |       0.8736 |     3.225s | 17.340s | COMPLETE |\n",
      "| 6     |          400 |        0.0799 |   SAMME.R |  0.7664 |       0.8736 |     3.543s | 20.883s | COMPLETE |\n",
      "| 7     |          450 |        0.0244 |   SAMME.R |  0.8151 |       0.8736 |     4.176s | 25.059s | COMPLETE |\n",
      "| 8     |          310 |        0.2973 |   SAMME.R |  0.7478 |       0.8736 |     2.866s | 27.926s | COMPLETE |\n",
      "| 9     |          290 |        1.6933 |     SAMME |  0.8609 |       0.8736 |     2.736s | 30.662s | COMPLETE |\n",
      "Hyperparameter tuning ---------------------------\n",
      "Best trial --> 0\n",
      "Best parameters:\n",
      " --> n_estimators: 240\n",
      " --> learning_rate: 0.1504\n",
      " --> algorithm: SAMME\n",
      "Best evaluation --> roc_auc: 0.8736\n",
      "Time elapsed: 30.662s\n",
      "Fit ---------------------------------------------\n",
      "Train evaluation --> roc_auc: 0.896\n",
      "Test evaluation --> roc_auc: 0.8754\n",
      "Time elapsed: 1.918s\n",
      "-------------------------------------------------\n",
      "Total time: 32.580s\n",
      "\n",
      "\n",
      "Final results ==================== >>\n",
      "Total time: 43.206s\n",
      "-------------------------------------\n",
      "LinearDiscriminantAnalysis --> roc_auc: 0.9118 !\n",
      "AdaBoost                   --> roc_auc: 0.8754\n"
     ]
    }
   ],
   "source": [
    "atom.run(models=[\"LDA\", \"AdaB\"], metric=\"auc\", n_trials=10)"
   ]
  },
  {
   "cell_type": "code",
   "execution_count": 5,
   "id": "6a5dd6a4-0371-4cc8-aa47-db02b5771fb2",
   "metadata": {},
   "outputs": [
    {
     "data": {
      "text/html": [
       "<div>\n",
       "<style scoped>\n",
       "    .dataframe tbody tr th:only-of-type {\n",
       "        vertical-align: middle;\n",
       "    }\n",
       "\n",
       "    .dataframe tbody tr th {\n",
       "        vertical-align: top;\n",
       "    }\n",
       "\n",
       "    .dataframe thead th {\n",
       "        text-align: right;\n",
       "    }\n",
       "</style>\n",
       "<table border=\"1\" class=\"dataframe\">\n",
       "  <thead>\n",
       "    <tr style=\"text-align: right;\">\n",
       "      <th></th>\n",
       "      <th>accuracy</th>\n",
       "      <th>average_precision</th>\n",
       "      <th>balanced_accuracy</th>\n",
       "      <th>f1</th>\n",
       "      <th>jaccard</th>\n",
       "      <th>matthews_corrcoef</th>\n",
       "      <th>precision</th>\n",
       "      <th>recall</th>\n",
       "      <th>roc_auc</th>\n",
       "    </tr>\n",
       "  </thead>\n",
       "  <tbody>\n",
       "    <tr>\n",
       "      <th>LDA</th>\n",
       "      <td>0.855</td>\n",
       "      <td>0.761</td>\n",
       "      <td>0.7431</td>\n",
       "      <td>0.6329</td>\n",
       "      <td>0.4630</td>\n",
       "      <td>0.5623</td>\n",
       "      <td>0.7812</td>\n",
       "      <td>0.5319</td>\n",
       "      <td>0.9118</td>\n",
       "    </tr>\n",
       "    <tr>\n",
       "      <th>AdaB</th>\n",
       "      <td>0.850</td>\n",
       "      <td>0.731</td>\n",
       "      <td>0.6956</td>\n",
       "      <td>0.5588</td>\n",
       "      <td>0.3878</td>\n",
       "      <td>0.5411</td>\n",
       "      <td>0.9048</td>\n",
       "      <td>0.4043</td>\n",
       "      <td>0.8754</td>\n",
       "    </tr>\n",
       "  </tbody>\n",
       "</table>\n",
       "</div>"
      ],
      "text/plain": [
       "      accuracy  average_precision  balanced_accuracy      f1  jaccard  \\\n",
       "LDA      0.855              0.761             0.7431  0.6329   0.4630   \n",
       "AdaB     0.850              0.731             0.6956  0.5588   0.3878   \n",
       "\n",
       "      matthews_corrcoef  precision  recall  roc_auc  \n",
       "LDA              0.5623     0.7812  0.5319   0.9118  \n",
       "AdaB             0.5411     0.9048  0.4043   0.8754  "
      ]
     },
     "execution_count": 5,
     "metadata": {},
     "output_type": "execute_result"
    }
   ],
   "source": [
    "atom.evaluate()"
   ]
  }
 ],
 "metadata": {
  "kernelspec": {
   "display_name": "Python 3 (ipykernel)",
   "language": "python",
   "name": "python3"
  },
  "language_info": {
   "codemirror_mode": {
    "name": "ipython",
    "version": 3
   },
   "file_extension": ".py",
   "mimetype": "text/x-python",
   "name": "python",
   "nbconvert_exporter": "python",
   "pygments_lexer": "ipython3",
   "version": "3.10.9"
  }
 },
 "nbformat": 4,
 "nbformat_minor": 5
}
