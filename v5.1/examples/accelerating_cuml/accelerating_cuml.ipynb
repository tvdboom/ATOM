{
 "cells": [
  {
   "cell_type": "markdown",
   "id": "9d021c80-8290-4533-9f09-71b0edba468d",
   "metadata": {},
   "source": [
    "# Example: Accelerating pipelines on GPU\n",
    "----------------------------------------\n",
    "\n",
    "This example shows how to accelerate a pipeline on GPU using [cuML](https://docs.rapids.ai/api/cuml/stable/).\n",
    "\n",
    "Import the breast cancer dataset from [sklearn.datasets](https://scikit-learn.org/stable/datasets/index.html#wine-dataset). This is a small and easy to train dataset whose goal is to predict whether a patient has breast cancer or not."
   ]
  },
  {
   "cell_type": "code",
   "execution_count": 1,
   "id": "b57d1dff-114e-4f92-b2a5-536aaf5ce2ad",
   "metadata": {},
   "outputs": [],
   "source": [
    "from atom import ATOMClassifier\n",
    "from sklearn.datasets import load_breast_cancer"
   ]
  },
  {
   "cell_type": "code",
   "execution_count": 2,
   "id": "e732a7a5-56bf-4249-b3df-9750ffed6e1e",
   "metadata": {},
   "outputs": [],
   "source": [
    "X, y = load_breast_cancer(return_X_y=True, as_frame=True)"
   ]
  },
  {
   "cell_type": "code",
   "execution_count": 3,
   "id": "da7bcaba-27ed-4d19-92c8-826ed808fe5c",
   "metadata": {},
   "outputs": [
    {
     "name": "stdout",
     "output_type": "stream",
     "text": [
      "<< ================== ATOM ================== >>\n",
      "Algorithm task: binary classification.\n",
      "GPU training enabled.\n",
      "Backend engine: cuml.\n",
      "\n",
      "Dataset stats ==================== >>\n",
      "Shape: (569, 31)\n",
      "Memory: 141.24 kB\n",
      "Scaled: False\n",
      "Outlier values: 171 (1.2%)\n",
      "-------------------------------------\n",
      "Train set size: 456\n",
      "Test set size: 113\n",
      "-------------------------------------\n",
      "|   |     dataset |       train |        test |\n",
      "| - | ----------- | ----------- | ----------- |\n",
      "| 0 |   212 (1.0) |   170 (1.0) |    42 (1.0) |\n",
      "| 1 |   357 (1.7) |   286 (1.7) |    71 (1.7) |\n",
      "\n"
     ]
    }
   ],
   "source": [
    "atom = ATOMClassifier(X, y, device=\"gpu\", engine=\"cuml\", verbose=2)"
   ]
  },
  {
   "cell_type": "code",
   "execution_count": 4,
   "id": "4f986f25-d52f-45e9-b3e2-e645204363d1",
   "metadata": {},
   "outputs": [
    {
     "name": "stdout",
     "output_type": "stream",
     "text": [
      "Fitting Cleaner...\n",
      "Cleaning the data...\n",
      " --> Label-encoding the target column.\n"
     ]
    }
   ],
   "source": [
    "atom.clean()"
   ]
  },
  {
   "cell_type": "code",
   "execution_count": 5,
   "id": "a7c74dcf-a570-488a-bdcc-2d5bb234e887",
   "metadata": {},
   "outputs": [
    {
     "name": "stdout",
     "output_type": "stream",
     "text": [
      "\n",
      "Training ========================= >>\n",
      "Models: LR, RF\n",
      "Metric: f1\n",
      "\n",
      "\n",
      "Running hyperparameter tuning for LogisticRegression...\n",
      "| trial |       C | max_iter | l1_ratio |      f1 | best_f1 | time_trial | time_ht |    state |\n",
      "| ----- | ------- | -------- | -------- | ------- | ------- | ---------- | ------- | -------- |\n",
      "| 0     | 76.5012 |      970 |      --- |  0.9821 |  0.9821 |     0.932s |  0.932s | COMPLETE |\n",
      "| 1     | 42.1177 |      740 |      --- |  0.9739 |  0.9821 |     0.093s |  1.025s | COMPLETE |\n",
      "| 2     |  0.0059 |      690 |      --- |  0.9661 |  0.9821 |     0.054s |  1.080s | COMPLETE |\n",
      "| 3     |  3.3535 |      680 |      --- |  0.9913 |  0.9913 |     0.069s |  1.149s | COMPLETE |\n",
      "| 4     |  5.1898 |      770 |      --- |  0.9739 |  0.9913 |     0.078s |  1.227s | COMPLETE |\n",
      "| 5     |  0.0902 |      840 |      --- |  0.9739 |  0.9913 |     0.055s |  1.282s | COMPLETE |\n",
      "| 6     |  0.0225 |      810 |      --- |   0.958 |  0.9913 |     0.054s |  1.336s | COMPLETE |\n",
      "| 7     |  0.0557 |      150 |      --- |  0.9661 |  0.9913 |     0.058s |  1.395s | COMPLETE |\n",
      "| 8     | 10.9765 |      920 |      --- |  0.9735 |  0.9913 |     0.072s |  1.467s | COMPLETE |\n",
      "| 9     |  1.8506 |      170 |      --- |  0.9825 |  0.9913 |     0.065s |  1.532s | COMPLETE |\n",
      "Hyperparameter tuning ---------------------------\n",
      "Best trial --> 3\n",
      "Best parameters:\n",
      " --> C: 3.3535\n",
      " --> max_iter: 680\n",
      "Best evaluation --> f1: 0.9913\n",
      "Time elapsed: 1.532s\n",
      "Fit ---------------------------------------------\n",
      "Train evaluation --> f1: 0.9913\n",
      "Test evaluation --> f1: 0.9793\n",
      "Time elapsed: 0.060s\n",
      "-------------------------------------------------\n",
      "Total time: 1.592s\n",
      "\n",
      "\n",
      "Running hyperparameter tuning for RandomForest...\n",
      "| trial | n_estimators | split_criterion | max_depth | min_samples_split | min_samples_leaf | max_features | bootstrap | max_samples |      f1 | best_f1 | time_trial | time_ht |    state |\n",
      "| ----- | ------------ | --------------- | --------- | ----------------- | ---------------- | ------------ | --------- | ----------- | ------- | ------- | ---------- | ------- | -------- |\n",
      "| 0     |          380 |            gini |         3 |                14 |                5 |          0.8 |     False |         --- |  0.9455 |  0.9455 |     0.845s |  0.845s | COMPLETE |\n",
      "| 1     |          170 |            gini |         9 |                 6 |               13 |          0.9 |     False |         --- |  0.9558 |  0.9558 |     0.424s |  1.269s | COMPLETE |\n",
      "| 2     |          270 |         entropy |         4 |                10 |               12 |          0.8 |     False |         --- |  0.9739 |  0.9739 |     0.607s |  1.876s | COMPLETE |\n",
      "| 3     |           20 |         entropy |         7 |                 9 |               17 |          0.9 |     False |         --- |  0.9636 |  0.9739 |     0.147s |  2.023s | COMPLETE |\n",
      "| 4     |          350 |         entropy |        13 |                 8 |               16 |          0.9 |     False |         --- |  0.9009 |  0.9739 |     0.801s |  2.824s | COMPLETE |\n",
      "| 5     |          430 |            gini |        13 |                 4 |               10 |          0.8 |     False |         --- |  0.9402 |  0.9739 |     0.837s |  3.662s | COMPLETE |\n",
      "| 6     |          250 |            gini |         9 |                 9 |               14 |         log2 |     False |         --- |   0.958 |  0.9739 |     0.562s |  4.224s | COMPLETE |\n",
      "| 7     |          410 |         entropy |         3 |                 8 |               11 |          0.7 |      True |         0.6 |  0.9333 |  0.9739 |     0.831s |  5.055s | COMPLETE |\n",
      "| 8     |          100 |            gini |         3 |                10 |               18 |          0.8 |     False |         --- |  0.9381 |  0.9739 |     0.279s |  5.334s | COMPLETE |\n",
      "| 9     |          330 |         entropy |         7 |                 6 |               17 |          0.7 |     False |         --- |  0.9558 |  0.9739 |     0.731s |  6.065s | COMPLETE |\n",
      "Hyperparameter tuning ---------------------------\n",
      "Best trial --> 2\n",
      "Best parameters:\n",
      " --> n_estimators: 270\n",
      " --> split_criterion: entropy\n",
      " --> max_depth: 4\n",
      " --> min_samples_split: 10\n",
      " --> min_samples_leaf: 12\n",
      " --> max_features: 0.8\n",
      " --> bootstrap: False\n",
      "Best evaluation --> f1: 0.9739\n",
      "Time elapsed: 6.065s\n",
      "Fit ---------------------------------------------\n",
      "Train evaluation --> f1: 0.9809\n",
      "Test evaluation --> f1: 0.9655\n",
      "Time elapsed: 0.573s\n",
      "-------------------------------------------------\n",
      "Total time: 6.638s\n",
      "\n",
      "\n",
      "Final results ==================== >>\n",
      "Total time: 8.389s\n",
      "-------------------------------------\n",
      "LogisticRegression --> f1: 0.9793 !\n",
      "RandomForest       --> f1: 0.9655\n"
     ]
    }
   ],
   "source": [
    "atom.run([\"lr\", \"rf\"], n_trials=10)"
   ]
  },
  {
   "cell_type": "code",
   "execution_count": 6,
   "id": "8f893e9e-9702-45f4-b845-a60f777d3015",
   "metadata": {},
   "outputs": [
    {
     "data": {
      "text/html": [
       "<div>\n",
       "<style scoped>\n",
       "    .dataframe tbody tr th:only-of-type {\n",
       "        vertical-align: middle;\n",
       "    }\n",
       "\n",
       "    .dataframe tbody tr th {\n",
       "        vertical-align: top;\n",
       "    }\n",
       "\n",
       "    .dataframe thead th {\n",
       "        text-align: right;\n",
       "    }\n",
       "</style>\n",
       "<table border=\"1\" class=\"dataframe\">\n",
       "  <thead>\n",
       "    <tr style=\"text-align: right;\">\n",
       "      <th></th>\n",
       "      <th>accuracy</th>\n",
       "      <th>average_precision</th>\n",
       "      <th>balanced_accuracy</th>\n",
       "      <th>f1</th>\n",
       "      <th>jaccard</th>\n",
       "      <th>matthews_corrcoef</th>\n",
       "      <th>precision</th>\n",
       "      <th>recall</th>\n",
       "      <th>roc_auc</th>\n",
       "    </tr>\n",
       "  </thead>\n",
       "  <tbody>\n",
       "    <tr>\n",
       "      <th>LR</th>\n",
       "      <td>0.9735</td>\n",
       "      <td>0.9817</td>\n",
       "      <td>0.9643</td>\n",
       "      <td>0.9793</td>\n",
       "      <td>0.9595</td>\n",
       "      <td>0.9439</td>\n",
       "      <td>0.9595</td>\n",
       "      <td>1.0000</td>\n",
       "      <td>0.9762</td>\n",
       "    </tr>\n",
       "    <tr>\n",
       "      <th>RF</th>\n",
       "      <td>0.9558</td>\n",
       "      <td>0.9919</td>\n",
       "      <td>0.9453</td>\n",
       "      <td>0.9655</td>\n",
       "      <td>0.9333</td>\n",
       "      <td>0.9054</td>\n",
       "      <td>0.9459</td>\n",
       "      <td>0.9859</td>\n",
       "      <td>0.9866</td>\n",
       "    </tr>\n",
       "  </tbody>\n",
       "</table>\n",
       "</div>"
      ],
      "text/plain": [
       "    accuracy  average_precision  balanced_accuracy      f1  jaccard  \\\n",
       "LR    0.9735             0.9817             0.9643  0.9793   0.9595   \n",
       "RF    0.9558             0.9919             0.9453  0.9655   0.9333   \n",
       "\n",
       "    matthews_corrcoef  precision  recall  roc_auc  \n",
       "LR             0.9439     0.9595  1.0000   0.9762  \n",
       "RF             0.9054     0.9459  0.9859   0.9866  "
      ]
     },
     "execution_count": 6,
     "metadata": {},
     "output_type": "execute_result"
    }
   ],
   "source": [
    "atom.evaluate()"
   ]
  },
  {
   "cell_type": "code",
   "execution_count": 7,
   "id": "9ac62777-679f-418b-b563-235453a46d42",
   "metadata": {},
   "outputs": [
    {
     "name": "stdout",
     "output_type": "stream",
     "text": [
      "cuml.linear_model.logistic_regression\n",
      "cuml.ensemble.randomforestclassifier\n"
     ]
    }
   ],
   "source": [
    "print(atom.lr.estimator.__module__)\n",
    "print(atom.rf.estimator.__module__)\n"
   ]
  }
 ],
 "metadata": {
  "kernelspec": {
   "display_name": "rapids-22.08:Python",
   "language": "python",
   "name": "conda-env-rapids-22.08-py"
  },
  "language_info": {
   "codemirror_mode": {
    "name": "ipython",
    "version": 3
   },
   "file_extension": ".py",
   "mimetype": "text/x-python",
   "name": "python",
   "nbconvert_exporter": "python",
   "pygments_lexer": "ipython3",
   "version": "3.9.15"
  }
 },
 "nbformat": 4,
 "nbformat_minor": 5
}
