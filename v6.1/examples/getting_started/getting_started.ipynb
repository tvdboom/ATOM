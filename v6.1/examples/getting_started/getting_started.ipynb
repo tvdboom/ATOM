{
 "cells": [
  {
   "cell_type": "markdown",
   "id": "61fb44bc-6b5a-4ca6-9b55-66ee34620ea7",
   "metadata": {},
   "source": [
    "# Example: Getting started\n",
    "--------------------------\n",
    "\n",
    "This example shows how to get started with the atom-ml library.\n",
    "\n",
    "The data used is a variation on the [Australian weather dataset](https://www.kaggle.com/jsphyg/weather-dataset-rattle-package) from Kaggle. You can download it from [here](https://github.com/tvdboom/ATOM/blob/master/examples/datasets/weatherAUS.csv). The goal of this dataset is to predict whether or not it will rain tomorrow training a binary classifier on target `RainTomorrow`."
   ]
  },
  {
   "cell_type": "code",
   "execution_count": 6,
   "id": "cc95d94f-0bc4-44e3-a74c-84c44fd8def3",
   "metadata": {},
   "outputs": [],
   "source": [
    "import pandas as pd\n",
    "from atom import ATOMClassifier\n",
    "\n",
    "# Load the Australian Weather dataset\n",
    "X = pd.read_csv(\"https://raw.githubusercontent.com/tvdboom/ATOM/master/examples/datasets/weatherAUS.csv\")"
   ]
  },
  {
   "cell_type": "code",
   "execution_count": 7,
   "id": "89b421ef-df08-4a44-935f-18eaa53563e4",
   "metadata": {},
   "outputs": [
    {
     "name": "stdout",
     "output_type": "stream",
     "text": [
      "<< ================== ATOM ================== >>\n",
      "\n",
      "Configuration ==================== >>\n",
      "Algorithm task: Binary classification.\n",
      "\n",
      "Dataset stats ==================== >>\n",
      "Shape: (1000, 22)\n",
      "Train set size: 800\n",
      "Test set size: 200\n",
      "-------------------------------------\n",
      "Memory: 176.13 kB\n",
      "Scaled: False\n",
      "Missing values: 2243 (10.2%)\n",
      "Categorical features: 5 (23.8%)\n",
      "\n"
     ]
    }
   ],
   "source": [
    "atom = ATOMClassifier(X, y=\"RainTomorrow\", n_rows=1000, verbose=2)"
   ]
  },
  {
   "cell_type": "code",
   "execution_count": 8,
   "id": "d5a53901-ba1d-4120-bfe9-a65a5e7dffe3",
   "metadata": {},
   "outputs": [
    {
     "name": "stdout",
     "output_type": "stream",
     "text": [
      "Fitting Imputer...\n",
      "Imputing missing values...\n",
      " --> Imputing 5 missing values with median (11.8) in column MinTemp.\n",
      " --> Imputing 1 missing values with median (22.2) in column MaxTemp.\n",
      " --> Imputing 11 missing values with median (0.0) in column Rainfall.\n",
      " --> Imputing 429 missing values with median (4.8) in column Evaporation.\n",
      " --> Imputing 477 missing values with median (8.6) in column Sunshine.\n",
      " --> Imputing 67 missing values with most_frequent (SE) in column WindGustDir.\n",
      " --> Imputing 66 missing values with median (39.0) in column WindGustSpeed.\n",
      " --> Imputing 78 missing values with most_frequent (N) in column WindDir9am.\n",
      " --> Imputing 24 missing values with most_frequent (SSE) in column WindDir3pm.\n",
      " --> Imputing 7 missing values with median (13.0) in column WindSpeed9am.\n",
      " --> Imputing 20 missing values with median (19.0) in column WindSpeed3pm.\n",
      " --> Imputing 15 missing values with median (70.0) in column Humidity9am.\n",
      " --> Imputing 24 missing values with median (53.0) in column Humidity3pm.\n",
      " --> Imputing 106 missing values with median (1017.9) in column Pressure9am.\n",
      " --> Imputing 104 missing values with median (1015.7) in column Pressure3pm.\n",
      " --> Imputing 371 missing values with median (5.0) in column Cloud9am.\n",
      " --> Imputing 402 missing values with median (5.0) in column Cloud3pm.\n",
      " --> Imputing 7 missing values with median (16.4) in column Temp9am.\n",
      " --> Imputing 18 missing values with median (20.8) in column Temp3pm.\n",
      " --> Imputing 11 missing values with most_frequent (No) in column RainToday.\n",
      "Fitting Encoder...\n",
      "Encoding categorical columns...\n",
      " --> Target-encoding feature Location. Contains 49 classes.\n",
      " --> Target-encoding feature WindGustDir. Contains 16 classes.\n",
      " --> Target-encoding feature WindDir9am. Contains 16 classes.\n",
      " --> Target-encoding feature WindDir3pm. Contains 16 classes.\n",
      " --> Ordinal-encoding feature RainToday. Contains 2 classes.\n"
     ]
    }
   ],
   "source": [
    "atom.impute(strat_num=\"median\", strat_cat=\"most_frequent\")  \n",
    "atom.encode(strategy=\"Target\", max_onehot=8)"
   ]
  },
  {
   "cell_type": "code",
   "execution_count": 9,
   "id": "282546a1-012b-4ead-9441-55414d29d4ae",
   "metadata": {},
   "outputs": [
    {
     "name": "stdout",
     "output_type": "stream",
     "text": [
      "\n",
      "Training ========================= >>\n",
      "Models: LDA, AdaB\n",
      "Metric: auc\n",
      "\n",
      "\n",
      "Running hyperparameter tuning for LinearDiscriminantAnalysis...\n",
      "| trial |  solver | shrinkage |     auc | best_auc | time_trial | time_ht |    state |\n",
      "| ----- | ------- | --------- | ------- | -------- | ---------- | ------- | -------- |\n",
      "| 0     |    lsqr |      auto |  0.6291 |   0.6291 |     0.127s |  0.127s | COMPLETE |\n",
      "| 1     |     svd |      None |  0.7018 |   0.7018 |     0.122s |  0.250s | COMPLETE |\n",
      "| 2     |     svd |      None |  0.7018 |   0.7018 |     0.001s |  0.251s | COMPLETE |\n",
      "| 3     |     svd |      None |  0.7018 |   0.7018 |     0.000s |  0.251s | COMPLETE |\n",
      "| 4     |     svd |      None |  0.7018 |   0.7018 |     0.000s |  0.251s | COMPLETE |\n",
      "| 5     |   eigen |      auto |  0.6675 |   0.7018 |     0.129s |  0.380s | COMPLETE |\n",
      "| 6     |    lsqr |       0.9 |  0.7511 |   0.7511 |     0.124s |  0.504s | COMPLETE |\n",
      "| 7     |     svd |      None |  0.7018 |   0.7511 |     0.000s |  0.504s | COMPLETE |\n",
      "| 8     |    lsqr |       0.8 |  0.7035 |   0.7511 |     0.121s |  0.625s | COMPLETE |\n",
      "| 9     |   eigen |      None |  0.6638 |   0.7511 |     0.120s |  0.745s | COMPLETE |\n",
      "Hyperparameter tuning ---------------------------\n",
      "Best trial --> 6\n",
      "Best parameters:\n",
      " --> solver: lsqr\n",
      " --> shrinkage: 0.9\n",
      "Best evaluation --> auc: 0.7511\n",
      "Time elapsed: 0.745s\n",
      "Fit ---------------------------------------------\n",
      "Train evaluation --> auc: 0.8034\n",
      "Test evaluation --> auc: 0.8655\n",
      "Time elapsed: 0.035s\n",
      "-------------------------------------------------\n",
      "Time: 0.779s\n",
      "\n",
      "\n",
      "Running hyperparameter tuning for AdaBoost...\n",
      "| trial | n_estimators | learning_rate |     auc | best_auc | time_trial | time_ht |    state |\n",
      "| ----- | ------------ | ------------- | ------- | -------- | ---------- | ------- | -------- |\n",
      "| 0     |          220 |        0.0145 |  0.5558 |   0.5558 |     0.559s |  0.559s | COMPLETE |\n",
      "| 1     |          340 |        0.0149 |  0.6245 |   0.6245 |     0.797s |  1.356s | COMPLETE |\n",
      "| 2     |          310 |        0.3206 |  0.6427 |   0.6427 |     0.745s |  2.101s | COMPLETE |\n",
      "| 3     |          120 |        8.1247 |     0.5 |   0.6427 |     0.368s |  2.469s | COMPLETE |\n",
      "| 4     |           70 |         0.065 |  0.5728 |   0.6427 |     0.262s |  2.731s | COMPLETE |\n",
      "| 5     |          280 |        3.2722 |     0.5 |   0.6427 |     0.684s |  3.415s | COMPLETE |\n",
      "| 6     |          330 |        0.0341 |  0.6167 |   0.6427 |     0.790s |  4.205s | COMPLETE |\n",
      "| 7     |           90 |        0.0442 |  0.5856 |   0.6427 |     0.308s |  4.513s | COMPLETE |\n",
      "| 8     |          290 |        5.6564 |     0.5 |   0.6427 |     0.723s |  5.236s | COMPLETE |\n",
      "| 9     |          450 |        5.7754 |  0.5128 |   0.6427 |     1.046s |  6.282s | COMPLETE |\n",
      "Hyperparameter tuning ---------------------------\n",
      "Best trial --> 2\n",
      "Best parameters:\n",
      " --> n_estimators: 310\n",
      " --> learning_rate: 0.3206\n",
      "Best evaluation --> auc: 0.6427\n",
      "Time elapsed: 6.282s\n",
      "Fit ---------------------------------------------\n",
      "Train evaluation --> auc: 0.952\n",
      "Test evaluation --> auc: 0.8025\n",
      "Time elapsed: 0.790s\n",
      "-------------------------------------------------\n",
      "Time: 7.072s\n",
      "\n",
      "\n",
      "Final results ==================== >>\n",
      "Total time: 9.717s\n",
      "-------------------------------------\n",
      "LinearDiscriminantAnalysis --> auc: 0.8655 !\n",
      "AdaBoost                   --> auc: 0.8025\n"
     ]
    }
   ],
   "source": [
    "atom.run(models=[\"LDA\", \"AdaB\"], metric=\"auc\", n_trials=10)"
   ]
  },
  {
   "cell_type": "code",
   "execution_count": 10,
   "id": "6a5dd6a4-0371-4cc8-aa47-db02b5771fb2",
   "metadata": {},
   "outputs": [
    {
     "data": {
      "text/html": [
       "<style type=\"text/css\">\n",
       "#T_d0a76_row0_col0, #T_d0a76_row0_col1, #T_d0a76_row0_col2, #T_d0a76_row0_col3, #T_d0a76_row0_col4, #T_d0a76_row0_col5, #T_d0a76_row0_col7, #T_d0a76_row0_col8, #T_d0a76_row1_col6 {\n",
       "  background-color: lightgreen;\n",
       "}\n",
       "</style>\n",
       "<table id=\"T_d0a76\">\n",
       "  <thead>\n",
       "    <tr>\n",
       "      <th class=\"blank level0\" >&nbsp;</th>\n",
       "      <th id=\"T_d0a76_level0_col0\" class=\"col_heading level0 col0\" >accuracy</th>\n",
       "      <th id=\"T_d0a76_level0_col1\" class=\"col_heading level0 col1\" >ap</th>\n",
       "      <th id=\"T_d0a76_level0_col2\" class=\"col_heading level0 col2\" >ba</th>\n",
       "      <th id=\"T_d0a76_level0_col3\" class=\"col_heading level0 col3\" >f1</th>\n",
       "      <th id=\"T_d0a76_level0_col4\" class=\"col_heading level0 col4\" >jaccard</th>\n",
       "      <th id=\"T_d0a76_level0_col5\" class=\"col_heading level0 col5\" >mcc</th>\n",
       "      <th id=\"T_d0a76_level0_col6\" class=\"col_heading level0 col6\" >precision</th>\n",
       "      <th id=\"T_d0a76_level0_col7\" class=\"col_heading level0 col7\" >recall</th>\n",
       "      <th id=\"T_d0a76_level0_col8\" class=\"col_heading level0 col8\" >auc</th>\n",
       "    </tr>\n",
       "  </thead>\n",
       "  <tbody>\n",
       "    <tr>\n",
       "      <th id=\"T_d0a76_level0_row0\" class=\"row_heading level0 row0\" >LDA</th>\n",
       "      <td id=\"T_d0a76_row0_col0\" class=\"data row0 col0\" >0.830000</td>\n",
       "      <td id=\"T_d0a76_row0_col1\" class=\"data row0 col1\" >0.778200</td>\n",
       "      <td id=\"T_d0a76_row0_col2\" class=\"data row0 col2\" >0.804700</td>\n",
       "      <td id=\"T_d0a76_row0_col3\" class=\"data row0 col3\" >0.685200</td>\n",
       "      <td id=\"T_d0a76_row0_col4\" class=\"data row0 col4\" >0.521100</td>\n",
       "      <td id=\"T_d0a76_row0_col5\" class=\"data row0 col5\" >0.574700</td>\n",
       "      <td id=\"T_d0a76_row0_col6\" class=\"data row0 col6\" >0.627100</td>\n",
       "      <td id=\"T_d0a76_row0_col7\" class=\"data row0 col7\" >0.755100</td>\n",
       "      <td id=\"T_d0a76_row0_col8\" class=\"data row0 col8\" >0.865500</td>\n",
       "    </tr>\n",
       "    <tr>\n",
       "      <th id=\"T_d0a76_level0_row1\" class=\"row_heading level0 row1\" >AdaB</th>\n",
       "      <td id=\"T_d0a76_row1_col0\" class=\"data row1 col0\" >0.825000</td>\n",
       "      <td id=\"T_d0a76_row1_col1\" class=\"data row1 col1\" >0.671200</td>\n",
       "      <td id=\"T_d0a76_row1_col2\" class=\"data row1 col2\" >0.711800</td>\n",
       "      <td id=\"T_d0a76_row1_col3\" class=\"data row1 col3\" >0.578300</td>\n",
       "      <td id=\"T_d0a76_row1_col4\" class=\"data row1 col4\" >0.406800</td>\n",
       "      <td id=\"T_d0a76_row1_col5\" class=\"data row1 col5\" >0.485000</td>\n",
       "      <td id=\"T_d0a76_row1_col6\" class=\"data row1 col6\" >0.705900</td>\n",
       "      <td id=\"T_d0a76_row1_col7\" class=\"data row1 col7\" >0.489800</td>\n",
       "      <td id=\"T_d0a76_row1_col8\" class=\"data row1 col8\" >0.802500</td>\n",
       "    </tr>\n",
       "  </tbody>\n",
       "</table>\n"
      ],
      "text/plain": [
       "<pandas.io.formats.style.Styler at 0x1f0d5cbdc10>"
      ]
     },
     "execution_count": 10,
     "metadata": {},
     "output_type": "execute_result"
    }
   ],
   "source": [
    "atom.evaluate()"
   ]
  }
 ],
 "metadata": {
  "kernelspec": {
   "display_name": "Python 3 (ipykernel)",
   "language": "python",
   "name": "python3"
  },
  "language_info": {
   "codemirror_mode": {
    "name": "ipython",
    "version": 3
   },
   "file_extension": ".py",
   "mimetype": "text/x-python",
   "name": "python",
   "nbconvert_exporter": "python",
   "pygments_lexer": "ipython3",
   "version": "3.11.2"
  }
 },
 "nbformat": 4,
 "nbformat_minor": 5
}
