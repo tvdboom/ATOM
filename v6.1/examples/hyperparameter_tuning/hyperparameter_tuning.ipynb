{
 "cells": [
  {
   "cell_type": "markdown",
   "metadata": {},
   "source": [
    "# Example: Hyperparameter tuning\n",
    "--------------------------------\n",
    "\n",
    "This example shows an advanced example on how to optimize your model's hyperparameters for multi-metric runs.\n",
    "\n",
    "Import the breast cancer dataset from [sklearn.datasets](https://scikit-learn.org/stable/datasets/index.html#wine-dataset). This is a small and easy to train dataset whose goal is to predict whether a patient has breast cancer or not."
   ]
  },
  {
   "cell_type": "markdown",
   "metadata": {},
   "source": [
    "## Load the data"
   ]
  },
  {
   "cell_type": "code",
   "execution_count": 1,
   "metadata": {},
   "source": [
    "# Import packages\n",
    "from sklearn.datasets import load_breast_cancer\n",
    "from optuna.distributions import IntDistribution\n",
    "from atom import ATOMClassifier"
   ],
   "outputs": []
  },
  {
   "cell_type": "code",
   "execution_count": 2,
   "metadata": {},
   "source": [
    "# Load the data\n",
    "X, y = load_breast_cancer(return_X_y=True)"
   ],
   "outputs": []
  },
  {
   "cell_type": "markdown",
   "metadata": {},
   "source": [
    "## Run the pipeline"
   ]
  },
  {
   "cell_type": "code",
   "execution_count": 3,
   "metadata": {},
   "source": [
    "# Initialize atom\n",
    "atom = ATOMClassifier(X, y, n_jobs=4, verbose=2, random_state=1)"
   ],
   "outputs": []
  },
  {
   "cell_type": "code",
   "execution_count": 4,
   "metadata": {},
   "source": [
    "# Train a MultiLayerPerceptron model on two metrics\n",
    "# using a custom number of hidden layers\n",
    "atom.run(\n",
    "    models=\"MLP\",\n",
    "    metric=[\"f1\", \"ap\"],\n",
    "    n_trials=10,\n",
    "    est_params={\"activation\": \"relu\"},\n",
    "    ht_params={\n",
    "        \"distributions\": {\n",
    "            \"hidden_layer_1\": IntDistribution(2, 4),\n",
    "            \"hidden_layer_2\": IntDistribution(10, 20),\n",
    "            \"hidden_layer_3\": IntDistribution(10, 20),\n",
    "            \"hidden_layer_4\": IntDistribution(2, 4),\n",
    "        }\n",
    "    },\n",
    "    errors='raise'\n",
    ")"
   ],
   "outputs": []
  },
  {
   "cell_type": "code",
   "execution_count": 5,
   "metadata": {},
   "source": [
    "# For multi-metric runs, the selected best trial is the first in the Pareto front\n",
    "atom.mlp.best_trial"
   ],
   "outputs": []
  },
  {
   "cell_type": "code",
   "execution_count": 6,
   "metadata": {},
   "source": [
    "atom.plot_pareto_front()"
   ],
   "outputs": []
  },
  {
   "cell_type": "code",
   "execution_count": 7,
   "metadata": {},
   "source": [
    "# If you are unhappy with the results, it's possible to conitnue the study\n",
    "atom.mlp.hyperparameter_tuning(n_trials=5)"
   ],
   "outputs": []
  },
  {
   "cell_type": "code",
   "execution_count": 8,
   "metadata": {},
   "source": [
    "# The trials attribute gives an overview of the trial results\n",
    "atom.mlp.trials"
   ],
   "outputs": []
  },
  {
   "cell_type": "code",
   "execution_count": 9,
   "metadata": {},
   "source": [
    "# Select a custom best trial...\n",
    "atom.mlp.best_trial = 2\n",
    "\n",
    "# ...and check that the best parameters are now those in the selected trial\n",
    "atom.mlp.best_params"
   ],
   "outputs": []
  },
  {
   "cell_type": "code",
   "execution_count": 10,
   "metadata": {},
   "source": [
    "# Lastly, fit the model on the complete training set \n",
    "# using the new combination of hyperparameters\n",
    "atom.mlp.fit()"
   ],
   "outputs": []
  },
  {
   "cell_type": "markdown",
   "metadata": {},
   "source": [
    "## Analyze the results"
   ]
  },
  {
   "cell_type": "code",
   "execution_count": 11,
   "metadata": {},
   "source": [
    "atom.plot_trials()"
   ],
   "outputs": []
  },
  {
   "cell_type": "code",
   "execution_count": 12,
   "metadata": {
    "tags": []
   },
   "source": [
    "atom.plot_parallel_coordinate()"
   ],
   "outputs": []
  }
 ],
 "metadata": {
  "kernelspec": {
   "display_name": "Python 3 (ipykernel)",
   "language": "python",
   "name": "python3"
  },
  "language_info": {
   "codemirror_mode": {
    "name": "ipython",
    "version": 3
   },
   "file_extension": ".py",
   "mimetype": "text/x-python",
   "name": "python",
   "nbconvert_exporter": "python",
   "pygments_lexer": "ipython3",
   "version": "3.11.2"
  },
  "toc": {
   "base_numbering": 1,
   "nav_menu": {},
   "number_sections": true,
   "sideBar": true,
   "skip_h1_title": false,
   "title_cell": "Table of Contents",
   "title_sidebar": "Contents",
   "toc_cell": false,
   "toc_position": {},
   "toc_section_display": true,
   "toc_window_display": false
  }
 },
 "nbformat": 4,
 "nbformat_minor": 4
}
