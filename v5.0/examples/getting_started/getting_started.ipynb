{
 "cells": [
  {
   "cell_type": "markdown",
   "id": "61fb44bc-6b5a-4ca6-9b55-66ee34620ea7",
   "metadata": {},
   "source": [
    "# Example: Getting started\n",
    "--------------------------\n",
    "\n",
    "This example shows how to get started with the atom-ml library.\n",
    "\n",
    "The data used is a variation on the [Australian weather dataset](https://www.kaggle.com/jsphyg/weather-dataset-rattle-package) from Kaggle. You can download it from [here](https://github.com/tvdboom/ATOM/blob/master/examples/datasets/weatherAUS.csv). The goal of this dataset is to predict whether or not it will rain tomorrow training a binary classifier on target `RainTomorrow`."
   ]
  },
  {
   "cell_type": "code",
   "execution_count": 1,
   "id": "cc95d94f-0bc4-44e3-a74c-84c44fd8def3",
   "metadata": {},
   "outputs": [],
   "source": [
    "import pandas as pd\n",
    "from atom import ATOMClassifier\n",
    "\n",
    "# Load the Australian Weather dataset\n",
    "X = pd.read_csv(\"https://raw.githubusercontent.com/tvdboom/ATOM/master/examples/datasets/weatherAUS.csv\")"
   ]
  },
  {
   "cell_type": "code",
   "execution_count": 2,
   "id": "89b421ef-df08-4a44-935f-18eaa53563e4",
   "metadata": {},
   "outputs": [
    {
     "name": "stdout",
     "output_type": "stream",
     "text": [
      "<< ================== ATOM ================== >>\n",
      "Algorithm task: binary classification.\n",
      "\n",
      "Dataset stats ==================== >>\n",
      "Shape: (1000, 22)\n",
      "Memory: 434.20 kB\n",
      "Scaled: False\n",
      "Missing values: 2210 (10.0%)\n",
      "Categorical features: 5 (23.8%)\n",
      "Outlier values: 1 (0.0%)\n",
      "-------------------------------------\n",
      "Train set size: 800\n",
      "Test set size: 200\n",
      "-------------------------------------\n",
      "|   |     dataset |       train |        test |\n",
      "| - | ----------- | ----------- | ----------- |\n",
      "| 0 |   777 (3.5) |   622 (3.5) |   155 (3.4) |\n",
      "| 1 |   223 (1.0) |   178 (1.0) |    45 (1.0) |\n",
      "\n"
     ]
    }
   ],
   "source": [
    "atom = ATOMClassifier(X, y=\"RainTomorrow\", n_rows=1000, verbose=2)"
   ]
  },
  {
   "cell_type": "code",
   "execution_count": 3,
   "id": "d5a53901-ba1d-4120-bfe9-a65a5e7dffe3",
   "metadata": {},
   "outputs": [
    {
     "name": "stdout",
     "output_type": "stream",
     "text": [
      "Fitting Imputer...\n",
      "Imputing missing values...\n",
      " --> Imputing 1 missing values with median (12.7) in feature MinTemp.\n",
      " --> Imputing 12 missing values with median (0.0) in feature Rainfall.\n",
      " --> Imputing 430 missing values with median (4.6) in feature Evaporation.\n",
      " --> Imputing 476 missing values with median (8.8) in feature Sunshine.\n",
      " --> Imputing 54 missing values with most_frequent (N) in feature WindGustDir.\n",
      " --> Imputing 54 missing values with median (37.0) in feature WindGustSpeed.\n",
      " --> Imputing 70 missing values with most_frequent (N) in feature WindDir9am.\n",
      " --> Imputing 26 missing values with most_frequent (S) in feature WindDir3pm.\n",
      " --> Imputing 5 missing values with median (13.0) in feature WindSpeed9am.\n",
      " --> Imputing 16 missing values with median (17.0) in feature WindSpeed3pm.\n",
      " --> Imputing 9 missing values with median (69.0) in feature Humidity9am.\n",
      " --> Imputing 22 missing values with median (51.0) in feature Humidity3pm.\n",
      " --> Imputing 105 missing values with median (1018.2) in feature Pressure9am.\n",
      " --> Imputing 109 missing values with median (1015.6) in feature Pressure3pm.\n",
      " --> Imputing 393 missing values with median (5.0) in feature Cloud9am.\n",
      " --> Imputing 397 missing values with median (4.0) in feature Cloud3pm.\n",
      " --> Imputing 4 missing values with median (17.0) in feature Temp9am.\n",
      " --> Imputing 15 missing values with median (21.5) in feature Temp3pm.\n",
      " --> Imputing 12 missing values with most_frequent (No) in feature RainToday.\n",
      "Fitting Encoder...\n",
      "Encoding categorical columns...\n",
      " --> LeaveOneOut-encoding feature Location. Contains 49 classes.\n",
      " --> LeaveOneOut-encoding feature WindGustDir. Contains 16 classes.\n",
      " --> LeaveOneOut-encoding feature WindDir9am. Contains 16 classes.\n",
      " --> LeaveOneOut-encoding feature WindDir3pm. Contains 16 classes.\n",
      " --> Ordinal-encoding feature RainToday. Contains 2 classes.\n"
     ]
    }
   ],
   "source": [
    "atom.impute(strat_num=\"median\", strat_cat=\"most_frequent\")  \n",
    "atom.encode(strategy=\"LeaveOneOut\", max_onehot=8)"
   ]
  },
  {
   "cell_type": "code",
   "execution_count": 4,
   "id": "282546a1-012b-4ead-9441-55414d29d4ae",
   "metadata": {},
   "outputs": [
    {
     "name": "stdout",
     "output_type": "stream",
     "text": [
      "\n",
      "Training ========================= >>\n",
      "Models: LDA, AdaB\n",
      "Metric: roc_auc\n",
      "\n",
      "\n",
      "Running hyperparameter tuning for LinearDiscriminantAnalysis...\n",
      "| trial |  solver | shrinkage | roc_auc | best_roc_auc | time_trial | time_ht |    state |\n",
      "| ----- | ------- | --------- | ------- | ------------ | ---------- | ------- | -------- |\n",
      "| 0     |   eigen |       0.8 |  0.8412 |       0.8412 |     0.218s |  0.218s | COMPLETE |\n",
      "| 1     |    lsqr |       0.6 |  0.8192 |       0.8412 |     0.253s |  0.471s | COMPLETE |\n",
      "| 2     |    lsqr |      auto |  0.7988 |       0.8412 |     0.218s |  0.689s | COMPLETE |\n",
      "| 3     |   eigen |       0.9 |    0.89 |         0.89 |     0.216s |  0.905s | COMPLETE |\n",
      "| 4     |     svd |       --- |  0.8542 |         0.89 |     0.249s |  1.154s | COMPLETE |\n",
      "| 5     |    lsqr |       0.6 |  0.8192 |         0.89 |     0.004s |  1.158s | COMPLETE |\n",
      "| 6     |    lsqr |      auto |  0.7988 |         0.89 |     0.003s |  1.161s | COMPLETE |\n",
      "| 7     |    lsqr |       0.8 |  0.8129 |         0.89 |     0.244s |  1.405s | COMPLETE |\n",
      "| 8     |    lsqr |      None |  0.7948 |         0.89 |     0.208s |  1.613s | COMPLETE |\n",
      "| 9     |   eigen |       0.8 |  0.8412 |         0.89 |     0.002s |  1.616s | COMPLETE |\n",
      "Hyperparameter tuning ---------------------------\n",
      "Best trial --> 3\n",
      "Best parameters:\n",
      " --> solver: eigen\n",
      " --> shrinkage: 0.9\n",
      "Best evaluation --> roc_auc: 0.89\n",
      "Time elapsed: 1.616s\n",
      "Fit ---------------------------------------------\n",
      "Train evaluation --> roc_auc: 0.8146\n",
      "Test evaluation --> roc_auc: 0.8305\n",
      "Time elapsed: 0.040s\n",
      "-------------------------------------------------\n",
      "Total time: 1.656s\n",
      "\n",
      "\n",
      "Running hyperparameter tuning for AdaBoost...\n",
      "| trial | n_estimators | learning_rate | algorithm | roc_auc | best_roc_auc | time_trial | time_ht |    state |\n",
      "| ----- | ------------ | ------------- | --------- | ------- | ------------ | ---------- | ------- | -------- |\n",
      "| 0     |          190 |        1.6916 |   SAMME.R |  0.6808 |       0.6808 |     0.690s |  0.690s | COMPLETE |\n",
      "| 1     |          380 |        0.1227 |     SAMME |  0.7919 |       0.7919 |     0.999s |  1.689s | COMPLETE |\n",
      "| 2     |          330 |         4.937 |     SAMME |   0.642 |       0.7919 |     0.235s |  1.923s | COMPLETE |\n",
      "| 3     |           80 |        1.0146 |   SAMME.R |  0.7708 |       0.7919 |     0.391s |  2.314s | COMPLETE |\n",
      "| 4     |          470 |        3.6762 |     SAMME |   0.642 |       0.7919 |     0.215s |  2.529s | COMPLETE |\n",
      "| 5     |          200 |        6.1828 |     SAMME |  0.2231 |       0.7919 |     0.209s |  2.737s | COMPLETE |\n",
      "| 6     |          240 |        0.5726 |   SAMME.R |  0.7708 |       0.7919 |     0.748s |  3.485s | COMPLETE |\n",
      "| 7     |          390 |        3.0825 |   SAMME.R |  0.3262 |       0.7919 |     1.093s |  4.577s | COMPLETE |\n",
      "| 8     |          290 |        0.7957 |     SAMME |  0.7699 |       0.7919 |     0.862s |  5.439s | COMPLETE |\n",
      "| 9     |          190 |        0.0256 |     SAMME |  0.8011 |       0.8011 |     0.596s |  6.036s | COMPLETE |\n",
      "Hyperparameter tuning ---------------------------\n",
      "Best trial --> 9\n",
      "Best parameters:\n",
      " --> n_estimators: 190\n",
      " --> learning_rate: 0.0256\n",
      " --> algorithm: SAMME\n",
      "Best evaluation --> roc_auc: 0.8011\n",
      "Time elapsed: 6.036s\n",
      "Fit ---------------------------------------------\n",
      "Train evaluation --> roc_auc: 0.844\n",
      "Test evaluation --> roc_auc: 0.8366\n",
      "Time elapsed: 0.449s\n",
      "-------------------------------------------------\n",
      "Total time: 6.485s\n",
      "\n",
      "\n",
      "Final results ==================== >>\n",
      "Total time: 8.352s\n",
      "-------------------------------------\n",
      "LinearDiscriminantAnalysis --> roc_auc: 0.8305\n",
      "AdaBoost                   --> roc_auc: 0.8366 !\n"
     ]
    }
   ],
   "source": [
    "atom.run(models=[\"LDA\", \"AdaB\"], metric=\"auc\", n_trials=10)"
   ]
  },
  {
   "cell_type": "code",
   "execution_count": 5,
   "id": "6a5dd6a4-0371-4cc8-aa47-db02b5771fb2",
   "metadata": {},
   "outputs": [
    {
     "data": {
      "text/html": [
       "<div>\n",
       "<style scoped>\n",
       "    .dataframe tbody tr th:only-of-type {\n",
       "        vertical-align: middle;\n",
       "    }\n",
       "\n",
       "    .dataframe tbody tr th {\n",
       "        vertical-align: top;\n",
       "    }\n",
       "\n",
       "    .dataframe thead th {\n",
       "        text-align: right;\n",
       "    }\n",
       "</style>\n",
       "<table border=\"1\" class=\"dataframe\">\n",
       "  <thead>\n",
       "    <tr style=\"text-align: right;\">\n",
       "      <th></th>\n",
       "      <th>accuracy</th>\n",
       "      <th>average_precision</th>\n",
       "      <th>balanced_accuracy</th>\n",
       "      <th>f1</th>\n",
       "      <th>jaccard</th>\n",
       "      <th>matthews_corrcoef</th>\n",
       "      <th>precision</th>\n",
       "      <th>recall</th>\n",
       "      <th>roc_auc</th>\n",
       "    </tr>\n",
       "  </thead>\n",
       "  <tbody>\n",
       "    <tr>\n",
       "      <th>LDA</th>\n",
       "      <td>0.805</td>\n",
       "      <td>0.6325</td>\n",
       "      <td>0.7559</td>\n",
       "      <td>0.6061</td>\n",
       "      <td>0.4348</td>\n",
       "      <td>0.4814</td>\n",
       "      <td>0.5556</td>\n",
       "      <td>0.6667</td>\n",
       "      <td>0.8305</td>\n",
       "    </tr>\n",
       "    <tr>\n",
       "      <th>AdaB</th>\n",
       "      <td>0.815</td>\n",
       "      <td>0.6505</td>\n",
       "      <td>0.6204</td>\n",
       "      <td>0.3934</td>\n",
       "      <td>0.2449</td>\n",
       "      <td>0.3707</td>\n",
       "      <td>0.7500</td>\n",
       "      <td>0.2667</td>\n",
       "      <td>0.8366</td>\n",
       "    </tr>\n",
       "  </tbody>\n",
       "</table>\n",
       "</div>"
      ],
      "text/plain": [
       "      accuracy  average_precision  balanced_accuracy      f1  jaccard  \\\n",
       "LDA      0.805             0.6325             0.7559  0.6061   0.4348   \n",
       "AdaB     0.815             0.6505             0.6204  0.3934   0.2449   \n",
       "\n",
       "      matthews_corrcoef  precision  recall  roc_auc  \n",
       "LDA              0.4814     0.5556  0.6667   0.8305  \n",
       "AdaB             0.3707     0.7500  0.2667   0.8366  "
      ]
     },
     "execution_count": 5,
     "metadata": {},
     "output_type": "execute_result"
    }
   ],
   "source": [
    "atom.evaluate()"
   ]
  }
 ],
 "metadata": {
  "kernelspec": {
   "display_name": "default:Python",
   "language": "python",
   "name": "conda-env-default-py"
  },
  "language_info": {
   "codemirror_mode": {
    "name": "ipython",
    "version": 3
   },
   "file_extension": ".py",
   "mimetype": "text/x-python",
   "name": "python",
   "nbconvert_exporter": "python",
   "pygments_lexer": "ipython3",
   "version": "3.9.13"
  }
 },
 "nbformat": 4,
 "nbformat_minor": 5
}
